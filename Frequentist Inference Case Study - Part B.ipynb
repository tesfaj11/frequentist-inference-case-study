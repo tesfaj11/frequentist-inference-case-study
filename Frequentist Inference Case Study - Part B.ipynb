{
 "cells": [
  {
   "cell_type": "code",
   "execution_count": 2,
   "id": "8c5ddb31-853f-4292-a8b8-d85a5c016e65",
   "metadata": {},
   "outputs": [
    {
     "data": {
      "text/html": [
       "<div>\n",
       "<style scoped>\n",
       "    .dataframe tbody tr th:only-of-type {\n",
       "        vertical-align: middle;\n",
       "    }\n",
       "\n",
       "    .dataframe tbody tr th {\n",
       "        vertical-align: top;\n",
       "    }\n",
       "\n",
       "    .dataframe thead th {\n",
       "        text-align: right;\n",
       "    }\n",
       "</style>\n",
       "<table border=\"1\" class=\"dataframe\">\n",
       "  <thead>\n",
       "    <tr style=\"text-align: right;\">\n",
       "      <th></th>\n",
       "      <th>age</th>\n",
       "      <th>sex</th>\n",
       "      <th>bmi</th>\n",
       "      <th>children</th>\n",
       "      <th>smoker</th>\n",
       "      <th>region</th>\n",
       "      <th>charges</th>\n",
       "      <th>insuranceclaim</th>\n",
       "    </tr>\n",
       "  </thead>\n",
       "  <tbody>\n",
       "    <tr>\n",
       "      <th>0</th>\n",
       "      <td>19</td>\n",
       "      <td>0</td>\n",
       "      <td>27.900</td>\n",
       "      <td>0</td>\n",
       "      <td>1</td>\n",
       "      <td>3</td>\n",
       "      <td>16884.92400</td>\n",
       "      <td>1</td>\n",
       "    </tr>\n",
       "    <tr>\n",
       "      <th>1</th>\n",
       "      <td>18</td>\n",
       "      <td>1</td>\n",
       "      <td>33.770</td>\n",
       "      <td>1</td>\n",
       "      <td>0</td>\n",
       "      <td>2</td>\n",
       "      <td>1725.55230</td>\n",
       "      <td>1</td>\n",
       "    </tr>\n",
       "    <tr>\n",
       "      <th>2</th>\n",
       "      <td>28</td>\n",
       "      <td>1</td>\n",
       "      <td>33.000</td>\n",
       "      <td>3</td>\n",
       "      <td>0</td>\n",
       "      <td>2</td>\n",
       "      <td>4449.46200</td>\n",
       "      <td>0</td>\n",
       "    </tr>\n",
       "    <tr>\n",
       "      <th>3</th>\n",
       "      <td>33</td>\n",
       "      <td>1</td>\n",
       "      <td>22.705</td>\n",
       "      <td>0</td>\n",
       "      <td>0</td>\n",
       "      <td>1</td>\n",
       "      <td>21984.47061</td>\n",
       "      <td>0</td>\n",
       "    </tr>\n",
       "    <tr>\n",
       "      <th>4</th>\n",
       "      <td>32</td>\n",
       "      <td>1</td>\n",
       "      <td>28.880</td>\n",
       "      <td>0</td>\n",
       "      <td>0</td>\n",
       "      <td>1</td>\n",
       "      <td>3866.85520</td>\n",
       "      <td>1</td>\n",
       "    </tr>\n",
       "  </tbody>\n",
       "</table>\n",
       "</div>"
      ],
      "text/plain": [
       "   age  sex     bmi  children  smoker  region      charges  insuranceclaim\n",
       "0   19    0  27.900         0       1       3  16884.92400               1\n",
       "1   18    1  33.770         1       0       2   1725.55230               1\n",
       "2   28    1  33.000         3       0       2   4449.46200               0\n",
       "3   33    1  22.705         0       0       1  21984.47061               0\n",
       "4   32    1  28.880         0       0       1   3866.85520               1"
      ]
     },
     "execution_count": 2,
     "metadata": {},
     "output_type": "execute_result"
    }
   ],
   "source": [
    "import pandas as pd\n",
    "\n",
    "df = pd.read_csv(\"insurance2.csv\")\n",
    "df.head()"
   ]
  },
  {
   "cell_type": "markdown",
   "id": "c1c102c6-f50f-4b53-b78b-8c33efd5589b",
   "metadata": {},
   "source": [
    "## Step 2: Define the Real-World Question\n",
    "\n",
    "**Business Question:**  \n",
    "Are smokers more likely to file an insurance claim than non-smokers?\n",
    "\n",
    "This is a binary classification problem comparing two proportions:\n",
    "- Proportion of **smokers** who filed a claim\n",
    "- Proportion of **non-smokers** who filed a claim\n",
    "\n",
    "### Hypotheses\n",
    "\n",
    "**Null Hypothesis (H₀):**  \n",
    "There is no difference in the proportion of claims filed between smokers and non-smokers.  \n",
    "→ 𝑝₁ = 𝑝₂\n",
    "\n",
    "**Alternative Hypothesis (H₁):**  \n",
    "Smokers are more likely to file a claim than non-smokers.  \n",
    "→ 𝑝₁ > 𝑝₂"
   ]
  },
  {
   "cell_type": "code",
   "execution_count": 6,
   "id": "0890bd2b-98a6-4dbf-a691-c979cd02f558",
   "metadata": {},
   "outputs": [
    {
     "name": "stdout",
     "output_type": "stream",
     "text": [
      "Smoker counts:\n",
      "smoker\n",
      "0    1064\n",
      "1     274\n",
      "Name: count, dtype: int64\n",
      "\n",
      "Smoker vs. Claim Crosstab:\n",
      "insuranceclaim    0    1\n",
      "smoker                  \n",
      "0               530  534\n",
      "1                25  249\n"
     ]
    }
   ],
   "source": [
    "print(\"Smoker counts:\")\n",
    "print(df[\"smoker\"].value_counts())\n",
    "\n",
    "print(\"\\nSmoker vs. Claim Crosstab:\")\n",
    "print(pd.crosstab(df[\"smoker\"], df[\"insuranceclaim\"]))"
   ]
  },
  {
   "cell_type": "markdown",
   "id": "b5073666-59e2-4b05-a860-08a56f29275d",
   "metadata": {},
   "source": [
    "## Step 3: Data Exploration Summary\n",
    "\n",
    "There are 274 smokers and 1064 non-smokers in the dataset.  \n",
    "Out of the smokers, 249 filed insurance claims.  \n",
    "Out of the non-smokers, 534 filed claims.\n",
    "\n",
    "This suggests a higher proportion of smokers file claims, but we need to perform a hypothesis test to confirm if the difference is statistically significant."
   ]
  },
  {
   "cell_type": "markdown",
   "id": "6e6feefd-ee71-45e1-8b15-c0a989ae16ba",
   "metadata": {},
   "source": [
    "## Step 4: Two-Proportion Z-Test\n",
    "\n",
    "I want to test if smokers are more likely to file insurance claims than non-smokers.\n",
    "\n",
    "### Hypotheses:\n",
    "- **Null Hypothesis (H₀):** There is no difference in proportions. (p1 = p2)\n",
    "- **Alternative Hypothesis (H₁):** Smokers have a higher proportion of claims. (p1 > p2)\n",
    "\n",
    "I'll use a two-proportion z-test to check if the observed difference is statistically significant."
   ]
  },
  {
   "cell_type": "code",
   "execution_count": 8,
   "id": "25037284-1ba4-4eb6-a841-3663753ac119",
   "metadata": {},
   "outputs": [
    {
     "name": "stdout",
     "output_type": "stream",
     "text": [
      "Z-statistic: 12.190247084419937\n",
      "P-value: 1.751787457205559e-34\n"
     ]
    }
   ],
   "source": [
    "from statsmodels.stats.proportion import proportions_ztest\n",
    "\n",
    "# Claim counts for each group\n",
    "claim_counts = [249, 534]  # [smokers who claimed, non-smokers who claimed]\n",
    "\n",
    "# Total people in each group\n",
    "group_sizes = [274, 1064]  # [total smokers, total non-smokers]\n",
    "\n",
    "# Run one-sided (smoker > non-smoker) z-test\n",
    "z_stat, p_value = proportions_ztest(count=claim_counts, nobs=group_sizes, alternative='larger')\n",
    "\n",
    "print(\"Z-statistic:\", z_stat)\n",
    "print(\"P-value:\", p_value)"
   ]
  },
  {
   "cell_type": "code",
   "execution_count": null,
   "id": "abd80306-bbf7-4c09-b8b8-b3734c86b046",
   "metadata": {},
   "outputs": [],
   "source": [
    "## Step 6: Final Summary & Conclusion\n",
    "\n",
    "In this project, I looked at whether smokers are more likely to file insurance claims compared to non-smokers. I used a two-proportion z-test to compare the percentage of claims made by each group.\n",
    "\n",
    "### Key Findings:\n",
    "- 249 out of 274 smokers filed claims (~90.9%)\n",
    "- 534 out of 1064 non-smokers filed claims (~50.2%)\n",
    "- Z-statistic: 12.19  \n",
    "- P-value: 1.75e-34 (way below 0.05)\n",
    "\n",
    "### Conclusion:\n",
    "Because the p-value is so small, I can confidently reject the null hypothesis. There’s strong evidence that smokers are more likely to file insurance claims than non-smokers.\n",
    "\n",
    "This analysis could be useful for insurance providers when evaluating risk based on lifestyle choices like smoking.\n"
   ]
  }
 ],
 "metadata": {
  "kernelspec": {
   "display_name": "Python [conda env:base] *",
   "language": "python",
   "name": "conda-base-py"
  },
  "language_info": {
   "codemirror_mode": {
    "name": "ipython",
    "version": 3
   },
   "file_extension": ".py",
   "mimetype": "text/x-python",
   "name": "python",
   "nbconvert_exporter": "python",
   "pygments_lexer": "ipython3",
   "version": "3.12.7"
  }
 },
 "nbformat": 4,
 "nbformat_minor": 5
}
